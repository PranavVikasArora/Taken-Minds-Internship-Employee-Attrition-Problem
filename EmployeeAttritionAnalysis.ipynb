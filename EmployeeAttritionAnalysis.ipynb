{
 "cells": [
  {
   "cell_type": "code",
   "execution_count": 1,
   "metadata": {},
   "outputs": [],
   "source": [
    "import numpy as np\n",
    "import pandas as pd\n",
    "import matplotlib.pyplot as plt\n",
    "import seaborn as sns"
   ]
  },
  {
   "cell_type": "code",
   "execution_count": 2,
   "metadata": {},
   "outputs": [],
   "source": [
    "employee_data = pd.read_excel(\"TakenMind-Python-Analytics-Problem-case-study-1-1.xlsx\")"
   ]
  },
  {
   "cell_type": "code",
   "execution_count": 3,
   "metadata": {},
   "outputs": [],
   "source": [
    "employee_left = pd.read_excel(\"TakenMind-Python-Analytics-Problem-case-study-1-1.xlsx\",sheet_name ='Employees who have left')\n",
    "employee_notleft = pd.read_excel(\"TakenMind-Python-Analytics-Problem-case-study-1-1.xlsx\",sheet_name = 'Existing employees')"
   ]
  },
  {
   "cell_type": "code",
   "execution_count": 4,
   "metadata": {},
   "outputs": [
    {
     "data": {
      "text/html": [
       "<div>\n",
       "<style scoped>\n",
       "    .dataframe tbody tr th:only-of-type {\n",
       "        vertical-align: middle;\n",
       "    }\n",
       "\n",
       "    .dataframe tbody tr th {\n",
       "        vertical-align: top;\n",
       "    }\n",
       "\n",
       "    .dataframe thead th {\n",
       "        text-align: right;\n",
       "    }\n",
       "</style>\n",
       "<table border=\"1\" class=\"dataframe\">\n",
       "  <thead>\n",
       "    <tr style=\"text-align: right;\">\n",
       "      <th></th>\n",
       "      <th>Emp ID</th>\n",
       "      <th>satisfaction_level</th>\n",
       "      <th>last_evaluation</th>\n",
       "      <th>number_project</th>\n",
       "      <th>average_montly_hours</th>\n",
       "      <th>time_spend_company</th>\n",
       "      <th>Work_accident</th>\n",
       "      <th>promotion_last_5years</th>\n",
       "      <th>dept</th>\n",
       "      <th>salary</th>\n",
       "    </tr>\n",
       "  </thead>\n",
       "  <tbody>\n",
       "    <tr>\n",
       "      <th>0</th>\n",
       "      <td>1</td>\n",
       "      <td>0.38</td>\n",
       "      <td>0.53</td>\n",
       "      <td>2</td>\n",
       "      <td>157</td>\n",
       "      <td>3</td>\n",
       "      <td>0</td>\n",
       "      <td>0</td>\n",
       "      <td>sales</td>\n",
       "      <td>low</td>\n",
       "    </tr>\n",
       "    <tr>\n",
       "      <th>1</th>\n",
       "      <td>2</td>\n",
       "      <td>0.80</td>\n",
       "      <td>0.86</td>\n",
       "      <td>5</td>\n",
       "      <td>262</td>\n",
       "      <td>6</td>\n",
       "      <td>0</td>\n",
       "      <td>0</td>\n",
       "      <td>sales</td>\n",
       "      <td>medium</td>\n",
       "    </tr>\n",
       "    <tr>\n",
       "      <th>2</th>\n",
       "      <td>3</td>\n",
       "      <td>0.11</td>\n",
       "      <td>0.88</td>\n",
       "      <td>7</td>\n",
       "      <td>272</td>\n",
       "      <td>4</td>\n",
       "      <td>0</td>\n",
       "      <td>0</td>\n",
       "      <td>sales</td>\n",
       "      <td>medium</td>\n",
       "    </tr>\n",
       "    <tr>\n",
       "      <th>3</th>\n",
       "      <td>4</td>\n",
       "      <td>0.72</td>\n",
       "      <td>0.87</td>\n",
       "      <td>5</td>\n",
       "      <td>223</td>\n",
       "      <td>5</td>\n",
       "      <td>0</td>\n",
       "      <td>0</td>\n",
       "      <td>sales</td>\n",
       "      <td>low</td>\n",
       "    </tr>\n",
       "    <tr>\n",
       "      <th>4</th>\n",
       "      <td>5</td>\n",
       "      <td>0.37</td>\n",
       "      <td>0.52</td>\n",
       "      <td>2</td>\n",
       "      <td>159</td>\n",
       "      <td>3</td>\n",
       "      <td>0</td>\n",
       "      <td>0</td>\n",
       "      <td>sales</td>\n",
       "      <td>low</td>\n",
       "    </tr>\n",
       "  </tbody>\n",
       "</table>\n",
       "</div>"
      ],
      "text/plain": [
       "   Emp ID  satisfaction_level  last_evaluation  number_project  \\\n",
       "0       1                0.38             0.53               2   \n",
       "1       2                0.80             0.86               5   \n",
       "2       3                0.11             0.88               7   \n",
       "3       4                0.72             0.87               5   \n",
       "4       5                0.37             0.52               2   \n",
       "\n",
       "   average_montly_hours  time_spend_company  Work_accident  \\\n",
       "0                   157                   3              0   \n",
       "1                   262                   6              0   \n",
       "2                   272                   4              0   \n",
       "3                   223                   5              0   \n",
       "4                   159                   3              0   \n",
       "\n",
       "   promotion_last_5years   dept  salary  \n",
       "0                      0  sales     low  \n",
       "1                      0  sales  medium  \n",
       "2                      0  sales  medium  \n",
       "3                      0  sales     low  \n",
       "4                      0  sales     low  "
      ]
     },
     "execution_count": 4,
     "metadata": {},
     "output_type": "execute_result"
    }
   ],
   "source": [
    "employee_left.head()"
   ]
  },
  {
   "cell_type": "code",
   "execution_count": 5,
   "metadata": {},
   "outputs": [
    {
     "data": {
      "text/html": [
       "<div>\n",
       "<style scoped>\n",
       "    .dataframe tbody tr th:only-of-type {\n",
       "        vertical-align: middle;\n",
       "    }\n",
       "\n",
       "    .dataframe tbody tr th {\n",
       "        vertical-align: top;\n",
       "    }\n",
       "\n",
       "    .dataframe thead th {\n",
       "        text-align: right;\n",
       "    }\n",
       "</style>\n",
       "<table border=\"1\" class=\"dataframe\">\n",
       "  <thead>\n",
       "    <tr style=\"text-align: right;\">\n",
       "      <th></th>\n",
       "      <th>Emp ID</th>\n",
       "      <th>satisfaction_level</th>\n",
       "      <th>last_evaluation</th>\n",
       "      <th>number_project</th>\n",
       "      <th>average_montly_hours</th>\n",
       "      <th>time_spend_company</th>\n",
       "      <th>Work_accident</th>\n",
       "      <th>promotion_last_5years</th>\n",
       "      <th>dept</th>\n",
       "      <th>salary</th>\n",
       "    </tr>\n",
       "  </thead>\n",
       "  <tbody>\n",
       "    <tr>\n",
       "      <th>0</th>\n",
       "      <td>2001</td>\n",
       "      <td>0.58</td>\n",
       "      <td>0.74</td>\n",
       "      <td>4</td>\n",
       "      <td>215</td>\n",
       "      <td>3</td>\n",
       "      <td>0</td>\n",
       "      <td>0</td>\n",
       "      <td>sales</td>\n",
       "      <td>low</td>\n",
       "    </tr>\n",
       "    <tr>\n",
       "      <th>1</th>\n",
       "      <td>2002</td>\n",
       "      <td>0.82</td>\n",
       "      <td>0.67</td>\n",
       "      <td>2</td>\n",
       "      <td>202</td>\n",
       "      <td>3</td>\n",
       "      <td>0</td>\n",
       "      <td>0</td>\n",
       "      <td>sales</td>\n",
       "      <td>low</td>\n",
       "    </tr>\n",
       "    <tr>\n",
       "      <th>2</th>\n",
       "      <td>2003</td>\n",
       "      <td>0.45</td>\n",
       "      <td>0.69</td>\n",
       "      <td>5</td>\n",
       "      <td>193</td>\n",
       "      <td>3</td>\n",
       "      <td>0</td>\n",
       "      <td>0</td>\n",
       "      <td>sales</td>\n",
       "      <td>low</td>\n",
       "    </tr>\n",
       "    <tr>\n",
       "      <th>3</th>\n",
       "      <td>2004</td>\n",
       "      <td>0.78</td>\n",
       "      <td>0.82</td>\n",
       "      <td>5</td>\n",
       "      <td>247</td>\n",
       "      <td>3</td>\n",
       "      <td>0</td>\n",
       "      <td>0</td>\n",
       "      <td>sales</td>\n",
       "      <td>low</td>\n",
       "    </tr>\n",
       "    <tr>\n",
       "      <th>4</th>\n",
       "      <td>2005</td>\n",
       "      <td>0.49</td>\n",
       "      <td>0.60</td>\n",
       "      <td>3</td>\n",
       "      <td>214</td>\n",
       "      <td>2</td>\n",
       "      <td>0</td>\n",
       "      <td>0</td>\n",
       "      <td>sales</td>\n",
       "      <td>low</td>\n",
       "    </tr>\n",
       "  </tbody>\n",
       "</table>\n",
       "</div>"
      ],
      "text/plain": [
       "   Emp ID  satisfaction_level  last_evaluation  number_project  \\\n",
       "0    2001                0.58             0.74               4   \n",
       "1    2002                0.82             0.67               2   \n",
       "2    2003                0.45             0.69               5   \n",
       "3    2004                0.78             0.82               5   \n",
       "4    2005                0.49             0.60               3   \n",
       "\n",
       "   average_montly_hours  time_spend_company  Work_accident  \\\n",
       "0                   215                   3              0   \n",
       "1                   202                   3              0   \n",
       "2                   193                   3              0   \n",
       "3                   247                   3              0   \n",
       "4                   214                   2              0   \n",
       "\n",
       "   promotion_last_5years   dept salary  \n",
       "0                      0  sales    low  \n",
       "1                      0  sales    low  \n",
       "2                      0  sales    low  \n",
       "3                      0  sales    low  \n",
       "4                      0  sales    low  "
      ]
     },
     "execution_count": 5,
     "metadata": {},
     "output_type": "execute_result"
    }
   ],
   "source": [
    "employee_notleft.head()"
   ]
  },
  {
   "cell_type": "code",
   "execution_count": 6,
   "metadata": {},
   "outputs": [
    {
     "data": {
      "text/plain": [
       "(11428, 10)"
      ]
     },
     "execution_count": 6,
     "metadata": {},
     "output_type": "execute_result"
    }
   ],
   "source": [
    "employee_notleft.shape"
   ]
  },
  {
   "cell_type": "code",
   "execution_count": 7,
   "metadata": {},
   "outputs": [
    {
     "data": {
      "text/plain": [
       "(3571, 10)"
      ]
     },
     "execution_count": 7,
     "metadata": {},
     "output_type": "execute_result"
    }
   ],
   "source": [
    "employee_left.shape"
   ]
  },
  {
   "cell_type": "code",
   "execution_count": 8,
   "metadata": {},
   "outputs": [
    {
     "data": {
      "text/plain": [
       "sales          1014\n",
       "technical       697\n",
       "support         555\n",
       "IT              273\n",
       "hr              215\n",
       "accounting      204\n",
       "marketing       203\n",
       "product_mng     198\n",
       "RandD           121\n",
       "management       91\n",
       "Name: dept, dtype: int64"
      ]
     },
     "execution_count": 8,
     "metadata": {},
     "output_type": "execute_result"
    }
   ],
   "source": [
    "employee_left['dept'].value_counts()"
   ]
  },
  {
   "cell_type": "code",
   "execution_count": 9,
   "metadata": {},
   "outputs": [],
   "source": [
    "#np.where(condition[,x,y]) On basis of the condition given the values of x and y are returned from the original array\n",
    "#if x and y are not given in where then we boolean output on basis of the condition \n",
    "#np.where concept : https://youtu.be/iAOL2K9yR1g\n",
    "\n",
    "#Combine \"technical\",\"support\" and \"IT\" into one department\n",
    "employee_left['dept']=np.where(employee_left['dept'] =='support', 'technical', employee_left['dept'])\n",
    "employee_left['dept']=np.where(employee_left['dept'] =='IT', 'technical', employee_left['dept'])\n",
    "#If dept = support, then it gets added to technical else the dept is added to depatrment colmn\n",
    "#similarly for IT\n"
   ]
  },
  {
   "cell_type": "code",
   "execution_count": 10,
   "metadata": {},
   "outputs": [],
   "source": [
    "employee_notleft['dept']=np.where(employee_notleft['dept'] =='support', 'technical', employee_notleft['dept'])\n",
    "employee_notleft['dept']=np.where(employee_notleft['dept'] =='IT', 'technical', employee_notleft['dept'])"
   ]
  },
  {
   "cell_type": "code",
   "execution_count": 11,
   "metadata": {},
   "outputs": [
    {
     "data": {
      "text/plain": [
       "array(['sales', 'accounting', 'hr', 'technical', 'management',\n",
       "       'product_mng', 'marketing', 'RandD'], dtype=object)"
      ]
     },
     "execution_count": 11,
     "metadata": {},
     "output_type": "execute_result"
    }
   ],
   "source": [
    "employee_left['dept'].unique()"
   ]
  },
  {
   "cell_type": "code",
   "execution_count": 12,
   "metadata": {},
   "outputs": [
    {
     "data": {
      "text/plain": [
       "Emp ID                   6500.439653\n",
       "satisfaction_level          0.440098\n",
       "last_evaluation             0.718113\n",
       "number_project              3.855503\n",
       "average_montly_hours      207.419210\n",
       "time_spend_company          3.876505\n",
       "Work_accident               0.047326\n",
       "promotion_last_5years       0.005321\n",
       "dtype: float64"
      ]
     },
     "execution_count": 12,
     "metadata": {},
     "output_type": "execute_result"
    }
   ],
   "source": [
    "employee_left.mean()"
   ]
  },
  {
   "cell_type": "code",
   "execution_count": 13,
   "metadata": {},
   "outputs": [
    {
     "data": {
      "text/plain": [
       "Emp ID                   7812.340742\n",
       "satisfaction_level          0.666810\n",
       "last_evaluation             0.715473\n",
       "number_project              3.786664\n",
       "average_montly_hours      199.060203\n",
       "time_spend_company          3.380032\n",
       "Work_accident               0.175009\n",
       "promotion_last_5years       0.026251\n",
       "dtype: float64"
      ]
     },
     "execution_count": 13,
     "metadata": {},
     "output_type": "execute_result"
    }
   ],
   "source": [
    "employee_notleft.mean()"
   ]
  },
  {
   "cell_type": "code",
   "execution_count": 14,
   "metadata": {},
   "outputs": [],
   "source": [
    "#Not left avg monthly hours less than those who left\n",
    "#Not left promotions higher over 5 years than left\n",
    "#Not left no of projects less than left\n",
    "#Not left higher satisfaction than left(obvious)"
   ]
  },
  {
   "cell_type": "code",
   "execution_count": 15,
   "metadata": {},
   "outputs": [
    {
     "data": {
      "text/html": [
       "<div>\n",
       "<style scoped>\n",
       "    .dataframe tbody tr th:only-of-type {\n",
       "        vertical-align: middle;\n",
       "    }\n",
       "\n",
       "    .dataframe tbody tr th {\n",
       "        vertical-align: top;\n",
       "    }\n",
       "\n",
       "    .dataframe thead th {\n",
       "        text-align: right;\n",
       "    }\n",
       "</style>\n",
       "<table border=\"1\" class=\"dataframe\">\n",
       "  <thead>\n",
       "    <tr style=\"text-align: right;\">\n",
       "      <th></th>\n",
       "      <th>Emp ID</th>\n",
       "      <th>satisfaction_level</th>\n",
       "      <th>last_evaluation</th>\n",
       "      <th>number_project</th>\n",
       "      <th>average_montly_hours</th>\n",
       "      <th>time_spend_company</th>\n",
       "      <th>Work_accident</th>\n",
       "      <th>promotion_last_5years</th>\n",
       "    </tr>\n",
       "    <tr>\n",
       "      <th>dept</th>\n",
       "      <th></th>\n",
       "      <th></th>\n",
       "      <th></th>\n",
       "      <th></th>\n",
       "      <th></th>\n",
       "      <th></th>\n",
       "      <th></th>\n",
       "      <th></th>\n",
       "    </tr>\n",
       "  </thead>\n",
       "  <tbody>\n",
       "    <tr>\n",
       "      <th>RandD</th>\n",
       "      <td>4897.181818</td>\n",
       "      <td>0.432810</td>\n",
       "      <td>0.745372</td>\n",
       "      <td>4.024793</td>\n",
       "      <td>210.975207</td>\n",
       "      <td>4.000000</td>\n",
       "      <td>0.082645</td>\n",
       "      <td>0.000000</td>\n",
       "    </tr>\n",
       "    <tr>\n",
       "      <th>accounting</th>\n",
       "      <td>6749.436275</td>\n",
       "      <td>0.402598</td>\n",
       "      <td>0.694510</td>\n",
       "      <td>3.872549</td>\n",
       "      <td>207.029412</td>\n",
       "      <td>3.794118</td>\n",
       "      <td>0.044118</td>\n",
       "      <td>0.000000</td>\n",
       "    </tr>\n",
       "    <tr>\n",
       "      <th>hr</th>\n",
       "      <td>6917.465116</td>\n",
       "      <td>0.433395</td>\n",
       "      <td>0.679721</td>\n",
       "      <td>3.539535</td>\n",
       "      <td>197.306977</td>\n",
       "      <td>3.753488</td>\n",
       "      <td>0.032558</td>\n",
       "      <td>0.000000</td>\n",
       "    </tr>\n",
       "    <tr>\n",
       "      <th>management</th>\n",
       "      <td>6364.626374</td>\n",
       "      <td>0.422857</td>\n",
       "      <td>0.727253</td>\n",
       "      <td>4.142857</td>\n",
       "      <td>207.263736</td>\n",
       "      <td>3.758242</td>\n",
       "      <td>0.054945</td>\n",
       "      <td>0.032967</td>\n",
       "    </tr>\n",
       "    <tr>\n",
       "      <th>marketing</th>\n",
       "      <td>6591.965517</td>\n",
       "      <td>0.453153</td>\n",
       "      <td>0.692020</td>\n",
       "      <td>3.581281</td>\n",
       "      <td>200.990148</td>\n",
       "      <td>3.857143</td>\n",
       "      <td>0.049261</td>\n",
       "      <td>0.000000</td>\n",
       "    </tr>\n",
       "    <tr>\n",
       "      <th>product_mng</th>\n",
       "      <td>6498.267677</td>\n",
       "      <td>0.481566</td>\n",
       "      <td>0.726566</td>\n",
       "      <td>3.848485</td>\n",
       "      <td>207.787879</td>\n",
       "      <td>3.989899</td>\n",
       "      <td>0.045455</td>\n",
       "      <td>0.000000</td>\n",
       "    </tr>\n",
       "    <tr>\n",
       "      <th>sales</th>\n",
       "      <td>6619.987179</td>\n",
       "      <td>0.447663</td>\n",
       "      <td>0.711243</td>\n",
       "      <td>3.736686</td>\n",
       "      <td>205.041420</td>\n",
       "      <td>3.812623</td>\n",
       "      <td>0.045365</td>\n",
       "      <td>0.006903</td>\n",
       "    </tr>\n",
       "    <tr>\n",
       "      <th>technical</th>\n",
       "      <td>6452.260328</td>\n",
       "      <td>0.435515</td>\n",
       "      <td>0.730918</td>\n",
       "      <td>3.983607</td>\n",
       "      <td>211.013115</td>\n",
       "      <td>3.932459</td>\n",
       "      <td>0.047869</td>\n",
       "      <td>0.005902</td>\n",
       "    </tr>\n",
       "  </tbody>\n",
       "</table>\n",
       "</div>"
      ],
      "text/plain": [
       "                  Emp ID  satisfaction_level  last_evaluation  number_project  \\\n",
       "dept                                                                            \n",
       "RandD        4897.181818            0.432810         0.745372        4.024793   \n",
       "accounting   6749.436275            0.402598         0.694510        3.872549   \n",
       "hr           6917.465116            0.433395         0.679721        3.539535   \n",
       "management   6364.626374            0.422857         0.727253        4.142857   \n",
       "marketing    6591.965517            0.453153         0.692020        3.581281   \n",
       "product_mng  6498.267677            0.481566         0.726566        3.848485   \n",
       "sales        6619.987179            0.447663         0.711243        3.736686   \n",
       "technical    6452.260328            0.435515         0.730918        3.983607   \n",
       "\n",
       "             average_montly_hours  time_spend_company  Work_accident  \\\n",
       "dept                                                                   \n",
       "RandD                  210.975207            4.000000       0.082645   \n",
       "accounting             207.029412            3.794118       0.044118   \n",
       "hr                     197.306977            3.753488       0.032558   \n",
       "management             207.263736            3.758242       0.054945   \n",
       "marketing              200.990148            3.857143       0.049261   \n",
       "product_mng            207.787879            3.989899       0.045455   \n",
       "sales                  205.041420            3.812623       0.045365   \n",
       "technical              211.013115            3.932459       0.047869   \n",
       "\n",
       "             promotion_last_5years  \n",
       "dept                                \n",
       "RandD                     0.000000  \n",
       "accounting                0.000000  \n",
       "hr                        0.000000  \n",
       "management                0.032967  \n",
       "marketing                 0.000000  \n",
       "product_mng               0.000000  \n",
       "sales                     0.006903  \n",
       "technical                 0.005902  "
      ]
     },
     "execution_count": 15,
     "metadata": {},
     "output_type": "execute_result"
    }
   ],
   "source": [
    "employee_left.groupby('dept').mean()"
   ]
  },
  {
   "cell_type": "code",
   "execution_count": 16,
   "metadata": {},
   "outputs": [
    {
     "data": {
      "text/html": [
       "<div>\n",
       "<style scoped>\n",
       "    .dataframe tbody tr th:only-of-type {\n",
       "        vertical-align: middle;\n",
       "    }\n",
       "\n",
       "    .dataframe tbody tr th {\n",
       "        vertical-align: top;\n",
       "    }\n",
       "\n",
       "    .dataframe thead th {\n",
       "        text-align: right;\n",
       "    }\n",
       "</style>\n",
       "<table border=\"1\" class=\"dataframe\">\n",
       "  <thead>\n",
       "    <tr style=\"text-align: right;\">\n",
       "      <th></th>\n",
       "      <th>Emp ID</th>\n",
       "      <th>satisfaction_level</th>\n",
       "      <th>last_evaluation</th>\n",
       "      <th>number_project</th>\n",
       "      <th>average_montly_hours</th>\n",
       "      <th>time_spend_company</th>\n",
       "      <th>Work_accident</th>\n",
       "      <th>promotion_last_5years</th>\n",
       "    </tr>\n",
       "    <tr>\n",
       "      <th>dept</th>\n",
       "      <th></th>\n",
       "      <th></th>\n",
       "      <th></th>\n",
       "      <th></th>\n",
       "      <th></th>\n",
       "      <th></th>\n",
       "      <th></th>\n",
       "      <th></th>\n",
       "    </tr>\n",
       "  </thead>\n",
       "  <tbody>\n",
       "    <tr>\n",
       "      <th>RandD</th>\n",
       "      <td>7120.120120</td>\n",
       "      <td>0.653799</td>\n",
       "      <td>0.706081</td>\n",
       "      <td>3.822823</td>\n",
       "      <td>198.951952</td>\n",
       "      <td>3.252252</td>\n",
       "      <td>0.186186</td>\n",
       "      <td>0.040541</td>\n",
       "    </tr>\n",
       "    <tr>\n",
       "      <th>accounting</th>\n",
       "      <td>7439.598579</td>\n",
       "      <td>0.647211</td>\n",
       "      <td>0.726128</td>\n",
       "      <td>3.808171</td>\n",
       "      <td>199.037300</td>\n",
       "      <td>3.424512</td>\n",
       "      <td>0.154529</td>\n",
       "      <td>0.024867</td>\n",
       "    </tr>\n",
       "    <tr>\n",
       "      <th>hr</th>\n",
       "      <td>7085.889313</td>\n",
       "      <td>0.666679</td>\n",
       "      <td>0.720802</td>\n",
       "      <td>3.702290</td>\n",
       "      <td>199.250000</td>\n",
       "      <td>3.192748</td>\n",
       "      <td>0.156489</td>\n",
       "      <td>0.028626</td>\n",
       "    </tr>\n",
       "    <tr>\n",
       "      <th>management</th>\n",
       "      <td>9958.474954</td>\n",
       "      <td>0.654861</td>\n",
       "      <td>0.723451</td>\n",
       "      <td>3.812616</td>\n",
       "      <td>200.233766</td>\n",
       "      <td>4.395176</td>\n",
       "      <td>0.181818</td>\n",
       "      <td>0.122449</td>\n",
       "    </tr>\n",
       "    <tr>\n",
       "      <th>marketing</th>\n",
       "      <td>8111.108397</td>\n",
       "      <td>0.669878</td>\n",
       "      <td>0.723282</td>\n",
       "      <td>3.720611</td>\n",
       "      <td>198.888550</td>\n",
       "      <td>3.480916</td>\n",
       "      <td>0.195420</td>\n",
       "      <td>0.065649</td>\n",
       "    </tr>\n",
       "    <tr>\n",
       "      <th>product_mng</th>\n",
       "      <td>8545.897727</td>\n",
       "      <td>0.658466</td>\n",
       "      <td>0.711435</td>\n",
       "      <td>3.795455</td>\n",
       "      <td>197.765625</td>\n",
       "      <td>3.330966</td>\n",
       "      <td>0.174716</td>\n",
       "      <td>0.000000</td>\n",
       "    </tr>\n",
       "    <tr>\n",
       "      <th>sales</th>\n",
       "      <td>8019.702175</td>\n",
       "      <td>0.668548</td>\n",
       "      <td>0.709223</td>\n",
       "      <td>3.789187</td>\n",
       "      <td>199.571657</td>\n",
       "      <td>3.443698</td>\n",
       "      <td>0.173065</td>\n",
       "      <td>0.029750</td>\n",
       "    </tr>\n",
       "    <tr>\n",
       "      <th>technical</th>\n",
       "      <td>7497.233928</td>\n",
       "      <td>0.672107</td>\n",
       "      <td>0.717717</td>\n",
       "      <td>3.791658</td>\n",
       "      <td>198.797463</td>\n",
       "      <td>3.246829</td>\n",
       "      <td>0.175661</td>\n",
       "      <td>0.009030</td>\n",
       "    </tr>\n",
       "  </tbody>\n",
       "</table>\n",
       "</div>"
      ],
      "text/plain": [
       "                  Emp ID  satisfaction_level  last_evaluation  number_project  \\\n",
       "dept                                                                            \n",
       "RandD        7120.120120            0.653799         0.706081        3.822823   \n",
       "accounting   7439.598579            0.647211         0.726128        3.808171   \n",
       "hr           7085.889313            0.666679         0.720802        3.702290   \n",
       "management   9958.474954            0.654861         0.723451        3.812616   \n",
       "marketing    8111.108397            0.669878         0.723282        3.720611   \n",
       "product_mng  8545.897727            0.658466         0.711435        3.795455   \n",
       "sales        8019.702175            0.668548         0.709223        3.789187   \n",
       "technical    7497.233928            0.672107         0.717717        3.791658   \n",
       "\n",
       "             average_montly_hours  time_spend_company  Work_accident  \\\n",
       "dept                                                                   \n",
       "RandD                  198.951952            3.252252       0.186186   \n",
       "accounting             199.037300            3.424512       0.154529   \n",
       "hr                     199.250000            3.192748       0.156489   \n",
       "management             200.233766            4.395176       0.181818   \n",
       "marketing              198.888550            3.480916       0.195420   \n",
       "product_mng            197.765625            3.330966       0.174716   \n",
       "sales                  199.571657            3.443698       0.173065   \n",
       "technical              198.797463            3.246829       0.175661   \n",
       "\n",
       "             promotion_last_5years  \n",
       "dept                                \n",
       "RandD                     0.040541  \n",
       "accounting                0.024867  \n",
       "hr                        0.028626  \n",
       "management                0.122449  \n",
       "marketing                 0.065649  \n",
       "product_mng               0.000000  \n",
       "sales                     0.029750  \n",
       "technical                 0.009030  "
      ]
     },
     "execution_count": 16,
     "metadata": {},
     "output_type": "execute_result"
    }
   ],
   "source": [
    "employee_notleft.groupby('dept').mean()"
   ]
  },
  {
   "cell_type": "code",
   "execution_count": 17,
   "metadata": {},
   "outputs": [
    {
     "data": {
      "text/plain": [
       "low       2172\n",
       "medium    1317\n",
       "high        82\n",
       "Name: salary, dtype: int64"
      ]
     },
     "execution_count": 17,
     "metadata": {},
     "output_type": "execute_result"
    }
   ],
   "source": [
    "employee_left['salary'].value_counts()"
   ]
  },
  {
   "cell_type": "code",
   "execution_count": 18,
   "metadata": {},
   "outputs": [
    {
     "data": {
      "text/plain": [
       "low       5144\n",
       "medium    5129\n",
       "high      1155\n",
       "Name: salary, dtype: int64"
      ]
     },
     "execution_count": 18,
     "metadata": {},
     "output_type": "execute_result"
    }
   ],
   "source": [
    "employee_notleft['salary'].value_counts()"
   ]
  },
  {
   "cell_type": "code",
   "execution_count": 19,
   "metadata": {},
   "outputs": [
    {
     "data": {
      "text/plain": [
       "(11428, 10)"
      ]
     },
     "execution_count": 19,
     "metadata": {},
     "output_type": "execute_result"
    }
   ],
   "source": [
    "employee_notleft.shape"
   ]
  },
  {
   "cell_type": "code",
   "execution_count": 20,
   "metadata": {},
   "outputs": [
    {
     "data": {
      "text/plain": [
       "low       0.450123\n",
       "medium    0.448810\n",
       "high      0.101068\n",
       "Name: salary, dtype: float64"
      ]
     },
     "execution_count": 20,
     "metadata": {},
     "output_type": "execute_result"
    }
   ],
   "source": [
    "employee_notleft['salary'].value_counts()/11428"
   ]
  },
  {
   "cell_type": "code",
   "execution_count": 21,
   "metadata": {},
   "outputs": [
    {
     "data": {
      "text/plain": [
       "(3571, 10)"
      ]
     },
     "execution_count": 21,
     "metadata": {},
     "output_type": "execute_result"
    }
   ],
   "source": [
    "employee_left.shape"
   ]
  },
  {
   "cell_type": "code",
   "execution_count": 22,
   "metadata": {},
   "outputs": [
    {
     "data": {
      "text/plain": [
       "low       0.608233\n",
       "medium    0.368804\n",
       "high      0.022963\n",
       "Name: salary, dtype: float64"
      ]
     },
     "execution_count": 22,
     "metadata": {},
     "output_type": "execute_result"
    }
   ],
   "source": [
    "employee_left['salary'].value_counts()/3571"
   ]
  },
  {
   "cell_type": "code",
   "execution_count": 23,
   "metadata": {},
   "outputs": [],
   "source": [
    "#left higher low salary and high salary ratio comapred to not left"
   ]
  },
  {
   "cell_type": "code",
   "execution_count": 24,
   "metadata": {},
   "outputs": [
    {
     "data": {
      "text/plain": [
       "Text(0, 0.5, 'Frequency')"
      ]
     },
     "execution_count": 24,
     "metadata": {},
     "output_type": "execute_result"
    },
    {
     "data": {
      "image/png": "[encoded data removed]",
      "text/plain": [
       "<Figure size 432x432 with 1 Axes>"
      ]
     },
     "metadata": {
      "needs_background": "light"
     },
     "output_type": "display_data"
    }
   ],
   "source": [
    "#Salary plot for those who left company\n",
    "#A count plot can be thought of as a histogram across a categorical, instead of quantitative, variable.\n",
    "plt.figure(figsize=(6,6))\n",
    "sns.countplot(employee_left['salary'])\n",
    "plt.title('Distribution of salaries of Employees who left the company')\n",
    "plt.xlabel('Salary')\n",
    "plt.ylabel('Frequency')"
   ]
  },
  {
   "cell_type": "code",
   "execution_count": 25,
   "metadata": {},
   "outputs": [
    {
     "data": {
      "text/plain": [
       "Text(0, 0.5, 'Frequency')"
      ]
     },
     "execution_count": 25,
     "metadata": {},
     "output_type": "execute_result"
    },
    {
     "data": {
      "image/png": "[encoded data removed]",
      "text/plain": [
       "<Figure size 432x432 with 1 Axes>"
      ]
     },
     "metadata": {
      "needs_background": "light"
     },
     "output_type": "display_data"
    }
   ],
   "source": [
    "#Salary plot for those who did not leave comapny\n",
    "plt.figure(figsize=(6,6))\n",
    "sns.countplot(employee_notleft['salary'])\n",
    "plt.title('Distribution of salaries of Employees who did not leave the company')\n",
    "plt.xlabel('Salary')\n",
    "plt.ylabel('Frequency')"
   ]
  },
  {
   "cell_type": "code",
   "execution_count": 26,
   "metadata": {},
   "outputs": [
    {
     "data": {
      "text/plain": [
       "Text(0.5, 1.0, 'Departments of Employees who left the Company')"
      ]
     },
     "execution_count": 26,
     "metadata": {},
     "output_type": "execute_result"
    },
    {
     "data": {
      "image/png": "[encoded data removed]",
      "text/plain": [
       "<Figure size 504x504 with 1 Axes>"
      ]
     },
     "metadata": {
      "needs_background": "light"
     },
     "output_type": "display_data"
    }
   ],
   "source": [
    "#Department wise represenatation for employees who left the company\n",
    "plt.figure(figsize=(7,7))\n",
    "sns.countplot(employee_left['dept'])\n",
    "plt.title('Departments of Employees who left the Company')"
   ]
  },
  {
   "cell_type": "code",
   "execution_count": 27,
   "metadata": {},
   "outputs": [
    {
     "data": {
      "text/plain": [
       "Text(0.5, 1.0, 'Departments of Employees who didnt leave ')"
      ]
     },
     "execution_count": 27,
     "metadata": {},
     "output_type": "execute_result"
    },
    {
     "data": {
      "image/png": "[encoded data removed]",
      "text/plain": [
       "<Figure size 504x504 with 1 Axes>"
      ]
     },
     "metadata": {
      "needs_background": "light"
     },
     "output_type": "display_data"
    }
   ],
   "source": [
    "plt.figure(figsize=(7,7))\n",
    "sns.countplot(employee_notleft['dept'])\n",
    "plt.title('Departments of Employees who didnt leave ')"
   ]
  },
  {
   "cell_type": "code",
   "execution_count": 28,
   "metadata": {},
   "outputs": [
    {
     "data": {
      "text/plain": [
       "Text(0, 0.5, 'Satisfaction Level')"
      ]
     },
     "execution_count": 28,
     "metadata": {},
     "output_type": "execute_result"
    },
    {
     "data": {
      "image/png": "[encoded data removed]",
      "text/plain": [
       "<Figure size 576x576 with 1 Axes>"
      ]
     },
     "metadata": {
      "needs_background": "light"
     },
     "output_type": "display_data"
    }
   ],
   "source": [
    "#Distribution of Satisfaction using box and whisker plot for those who left\n",
    "plt.figure(figsize=(8,8))\n",
    "sns.boxplot(x='dept', y='satisfaction_level', data=employee_left)\n",
    "plt.ylim([0,1])\n",
    "#Sets the limits of the Y axis \n",
    "plt.title('Distribution of satisfaction level of Employees that left by Department')\n",
    "plt.xlabel('Department')\n",
    "plt.ylabel('Satisfaction Level')"
   ]
  },
  {
   "cell_type": "code",
   "execution_count": 29,
   "metadata": {},
   "outputs": [
    {
     "data": {
      "text/plain": [
       "Text(0, 0.5, 'Satisfaction Level')"
      ]
     },
     "execution_count": 29,
     "metadata": {},
     "output_type": "execute_result"
    },
    {
     "data": {
      "image/png": "[encoded data removed]",
      "text/plain": [
       "<Figure size 576x576 with 1 Axes>"
      ]
     },
     "metadata": {
      "needs_background": "light"
     },
     "output_type": "display_data"
    }
   ],
   "source": [
    "plt.figure(figsize=(8,8))\n",
    "sns.boxplot(x='dept', y='satisfaction_level', data=employee_notleft)\n",
    "plt.ylim([0,1])\n",
    "#Sets the limits of the Y axis \n",
    "plt.title('Distribution of satisfaction level of Employees that did not leave by Department')\n",
    "plt.xlabel('Department')\n",
    "plt.ylabel('Satisfaction Level')"
   ]
  },
  {
   "cell_type": "code",
   "execution_count": 30,
   "metadata": {},
   "outputs": [
    {
     "data": {
      "text/plain": [
       "Text(0, 0.5, 'Frequency')"
      ]
     },
     "execution_count": 30,
     "metadata": {},
     "output_type": "execute_result"
    },
    {
     "data": {
      "image/png": "[encoded data removed]",
      "text/plain": [
       "<Figure size 720x720 with 1 Axes>"
      ]
     },
     "metadata": {
      "needs_background": "light"
     },
     "output_type": "display_data"
    }
   ],
   "source": [
    "plt.figure(figsize=(10,10))\n",
    "plt.hist(employee_left['satisfaction_level'])\n",
    "plt.title('Distribution of satisfaction_level of Employees who left')\n",
    "plt.xlabel('satisfaction_level')\n",
    "plt.ylabel('Frequency')"
   ]
  },
  {
   "cell_type": "code",
   "execution_count": 31,
   "metadata": {},
   "outputs": [],
   "source": [
    "#Now we will divide satisfaction into 3 grps low high medium using pd.cut\n",
    "#Pandas cut() function is used to separate the array elements into different bins\n",
    "employee_left['satisfaction_level_new'] = pd.cut(employee_left['satisfaction_level'], \n",
    "       3, labels=[\"small\", \"medium\", \"high\"])\n",
    "#here we put 3 to divide data into 3 bins"
   ]
  },
  {
   "cell_type": "code",
   "execution_count": 32,
   "metadata": {},
   "outputs": [
    {
     "data": {
      "text/plain": [
       "Text(0, 0.5, 'Frequency')"
      ]
     },
     "execution_count": 32,
     "metadata": {},
     "output_type": "execute_result"
    },
    {
     "data": {
      "image/png": "[encoded data removed]",
      "text/plain": [
       "<Figure size 720x720 with 1 Axes>"
      ]
     },
     "metadata": {
      "needs_background": "light"
     },
     "output_type": "display_data"
    }
   ],
   "source": [
    "plt.figure(figsize=(10,10))\n",
    "plt.hist(employee_left['satisfaction_level_new'])\n",
    "plt.title('Distribution of satisfaction_level of Employees who left')\n",
    "plt.xlabel('satisfaction_level')\n",
    "plt.ylabel('Frequency')"
   ]
  },
  {
   "cell_type": "code",
   "execution_count": 33,
   "metadata": {},
   "outputs": [],
   "source": [
    "employee_notleft['satisfaction_level_new_not'] = pd.cut(employee_notleft['satisfaction_level'], \n",
    "       3, labels=[\"small\", \"medium\", \"high\"])"
   ]
  },
  {
   "cell_type": "code",
   "execution_count": 34,
   "metadata": {},
   "outputs": [
    {
     "data": {
      "text/plain": [
       "Text(0, 0.5, 'Frequency')"
      ]
     },
     "execution_count": 34,
     "metadata": {},
     "output_type": "execute_result"
    },
    {
     "data": {
      "image/png": "[encoded data removed]",
      "text/plain": [
       "<Figure size 720x720 with 1 Axes>"
      ]
     },
     "metadata": {
      "needs_background": "light"
     },
     "output_type": "display_data"
    }
   ],
   "source": [
    "plt.figure(figsize=(10,10))\n",
    "plt.hist(employee_notleft['satisfaction_level_new_not'])\n",
    "plt.title('Distribution of satisfaction_level of Employees who did not leave')\n",
    "plt.xlabel('satisfaction_level')\n",
    "plt.ylabel('Frequency')"
   ]
  },
  {
   "cell_type": "code",
   "execution_count": 35,
   "metadata": {},
   "outputs": [],
   "source": [
    "#Satisfaction of employees who left the comapny is approx below average - from plots"
   ]
  },
  {
   "cell_type": "code",
   "execution_count": 36,
   "metadata": {},
   "outputs": [],
   "source": [
    "import statistics"
   ]
  },
  {
   "cell_type": "code",
   "execution_count": 37,
   "metadata": {},
   "outputs": [
    {
     "data": {
      "text/plain": [
       "44.00980117614114"
      ]
     },
     "execution_count": 37,
     "metadata": {},
     "output_type": "execute_result"
    }
   ],
   "source": [
    "statistics.mean(employee_left['satisfaction_level'])*100"
   ]
  },
  {
   "cell_type": "code",
   "execution_count": 38,
   "metadata": {},
   "outputs": [
    {
     "data": {
      "text/plain": [
       "66.6809590479524"
      ]
     },
     "execution_count": 38,
     "metadata": {},
     "output_type": "execute_result"
    }
   ],
   "source": [
    "statistics.mean(employee_notleft['satisfaction_level'])*100"
   ]
  }
 ],
 "metadata": {
  "kernelspec": {
   "display_name": "Python 3",
   "language": "python",
   "name": "python3"
  },
  "language_info": {
   "codemirror_mode": {
    "name": "ipython",
    "version": 3
   },
   "file_extension": ".py",
   "mimetype": "text/x-python",
   "name": "python",
   "nbconvert_exporter": "python",
   "pygments_lexer": "ipython3",
   "version": "3.7.6"
  }
 },
 "nbformat": 4,
 "nbformat_minor": 4
}
